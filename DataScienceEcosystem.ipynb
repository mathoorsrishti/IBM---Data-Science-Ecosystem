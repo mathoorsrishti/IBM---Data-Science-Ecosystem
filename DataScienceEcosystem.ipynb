{
 "cells": [
  {
   "cell_type": "markdown",
   "metadata": {},
   "source": [
    "### Exercise 2: Create markdown cell with title of the notebook\n",
    "# Data Science Tools and Ecosystem\n"
   ]
  },
  {
   "cell_type": "markdown",
   "metadata": {},
   "source": [
    "  ### Exercise 3 - Create a markdown cell for an introduction\n",
    "\n",
    "\n",
    "  In this notebook, Data Science Tools and Ecosystem are summarized."
   ]
  },
  {
   "cell_type": "markdown",
   "metadata": {},
   "source": [
    "### Exercise 10 - Insert a markdown cell to list Objectives\n",
    "\n",
    "\n",
    "**Objectives:**\n",
    "* Some of the popular languages that Data Scientists use\n",
    "* Some of the commonly used libraries used by Data Scientists\n",
    "* Data Science Tools\n",
    "* Evaluating basic arithmetic operations in Python\n",
    "* Code to convert minutes into hours\n",
    "\n"
   ]
  },
  {
   "cell_type": "markdown",
   "metadata": {},
   "source": [
    " ### Exercise 4 - Create a markdown cell to list data science languages\n",
    "\n",
    "\n",
    "\n",
    " Some of the popular languages that Data Scientists use are: \n",
    "1. Python\n",
    "2. SQL\n",
    "3. R\n",
    "4. Java\n",
    "5. C++"
   ]
  },
  {
   "cell_type": "markdown",
   "metadata": {},
   "source": [
    "### Exercise 5 - Create a markdown cell to list data science libraries\n",
    "\n",
    "\n",
    "\n",
    "\n",
    "Some of the commonly used libraries used by Data Scientists include:\n",
    "1. Numpy\n",
    "2. Pandas\n",
    "3. Matplotlib\n",
    "4. Scikit-learn\n"
   ]
  },
  {
   "cell_type": "markdown",
   "metadata": {},
   "source": [
    "### Exercise 6 - Create a markdown cell with a table of Data Science tools\n",
    "\n",
    "\n",
    "Data Science Tools\n",
    "______________\n",
    "\n",
    "JupyterLite\n",
    "\n",
    "JupyterLab\n",
    "\n",
    "Google Collaboratory\n"
   ]
  },
  {
   "cell_type": "markdown",
   "metadata": {},
   "source": [
    "### Exercise 7 - Create a markdown cell introducing arithmetic expression examples\n",
    "\n",
    "\n",
    "### Below are a few examples of evaluating arithmetic operations in Python:"
   ]
  },
  {
   "cell_type": "code",
   "execution_count": 1,
   "metadata": {},
   "outputs": [
    {
     "data": {
      "text/plain": [
       "50"
      ]
     },
     "execution_count": 1,
     "metadata": {},
     "output_type": "execute_result"
    }
   ],
   "source": [
    "(20+5)*2"
   ]
  },
  {
   "cell_type": "code",
   "execution_count": 2,
   "metadata": {},
   "outputs": [
    {
     "data": {
      "text/plain": [
       "5.0"
      ]
     },
     "execution_count": 2,
     "metadata": {},
     "output_type": "execute_result"
    }
   ],
   "source": [
    "(10+5)/(2+1)"
   ]
  },
  {
   "cell_type": "markdown",
   "metadata": {},
   "source": [
    "### Exercise 8 - Create a code cell to multiply and add numbers\n",
    "\n"
   ]
  },
  {
   "cell_type": "code",
   "execution_count": 3,
   "metadata": {},
   "outputs": [
    {
     "data": {
      "text/plain": [
       "17"
      ]
     },
     "execution_count": 3,
     "metadata": {},
     "output_type": "execute_result"
    }
   ],
   "source": [
    "#This is a simple arithmetic operation to multiply then add integers\n",
    "\n",
    "(3*4)+5"
   ]
  },
  {
   "cell_type": "markdown",
   "metadata": {},
   "source": [
    "### Exercise 9 - Create a code cell to convert minutes to hours\n",
    "\n"
   ]
  },
  {
   "cell_type": "code",
   "execution_count": 4,
   "metadata": {},
   "outputs": [
    {
     "name": "stdout",
     "output_type": "stream",
     "text": [
      "200 minutes to hours:  3.3333333333333335\n"
     ]
    }
   ],
   "source": [
    "#This will convert 200 minutes to hours by dividing by 60\n",
    "\n",
    "min = 200\n",
    "h = min/60\n",
    "print(\"200 minutes to hours: \",h)"
   ]
  },
  {
   "cell_type": "markdown",
   "metadata": {},
   "source": [
    "### Exercise 11 - Create a markdown cell to indicate the Author's name\n",
    "\n",
    "\n",
    "## Author\n",
    "Srishti Mathur"
   ]
  }
 ],
 "metadata": {
  "kernelspec": {
   "display_name": "Python 3",
   "language": "python",
   "name": "python3"
  },
  "language_info": {
   "codemirror_mode": {
    "name": "ipython",
    "version": 3
   },
   "file_extension": ".py",
   "mimetype": "text/x-python",
   "name": "python",
   "nbconvert_exporter": "python",
   "pygments_lexer": "ipython3",
   "version": "3.8.5"
  }
 },
 "nbformat": 4,
 "nbformat_minor": 4
}
